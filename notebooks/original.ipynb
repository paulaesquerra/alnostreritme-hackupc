{
 "cells": [
  {
   "cell_type": "code",
   "execution_count": 2,
   "metadata": {
    "executionInfo": {
     "elapsed": 4850,
     "status": "ok",
     "timestamp": 1683989828934,
     "user": {
      "displayName": "Óscar Pérez Romero",
      "userId": "18103146356865236729"
     },
     "user_tz": -120
    },
    "id": "cELtEgTx8svH"
   },
   "outputs": [],
   "source": [
    "import numpy as np\n",
    "import pandas as pd\n",
    "from itertools import zip_longest"
   ]
  },
  {
   "attachments": {},
   "cell_type": "markdown",
   "metadata": {
    "id": "FOn6vWRQ_xQv"
   },
   "source": [
    "## Read Data"
   ]
  },
  {
   "cell_type": "code",
   "execution_count": null,
   "metadata": {
    "colab": {
     "base_uri": "https://localhost:8080/"
    },
    "executionInfo": {
     "elapsed": 13,
     "status": "ok",
     "timestamp": 1683959826226,
     "user": {
      "displayName": "Óscar Pérez Romero",
      "userId": "18103146356865236729"
     },
     "user_tz": -120
    },
    "id": "5y_Zn9p8_wuD",
    "outputId": "962bdb43-69ef-4908-e057-9f516e83a905"
   },
   "outputs": [
    {
     "data": {
      "text/plain": [
       "(15454, 11)"
      ]
     },
     "execution_count": 18,
     "metadata": {},
     "output_type": "execute_result"
    }
   ],
   "source": [
    "HP_raw = pd.read_csv(\"../data/train.csv\", header=0, delimiter=',')\n",
    "HP_raw.shape"
   ]
  },
  {
   "cell_type": "code",
   "execution_count": null,
   "metadata": {
    "colab": {
     "base_uri": "https://localhost:8080/"
    },
    "executionInfo": {
     "elapsed": 9,
     "status": "ok",
     "timestamp": 1683959826552,
     "user": {
      "displayName": "Óscar Pérez Romero",
      "userId": "18103146356865236729"
     },
     "user_tz": -120
    },
    "id": "pS0GauSKAKEG",
    "outputId": "9829bc46-6071-40c4-9f82-ffc4346956f0"
   },
   "outputs": [
    {
     "data": {
      "text/plain": [
       "Index(['id', 'date', 'year_week', 'product_number', 'reporterhq_id',\n",
       "       'prod_category', 'specs', 'display_size', 'segment', 'sales_units',\n",
       "       'inventory_units'],\n",
       "      dtype='object')"
      ]
     },
     "execution_count": 3,
     "metadata": {},
     "output_type": "execute_result"
    }
   ],
   "source": [
    "HP_raw.columns"
   ]
  },
  {
   "cell_type": "code",
   "execution_count": null,
   "metadata": {
    "colab": {
     "base_uri": "https://localhost:8080/",
     "height": 206
    },
    "executionInfo": {
     "elapsed": 9,
     "status": "ok",
     "timestamp": 1683959826553,
     "user": {
      "displayName": "Óscar Pérez Romero",
      "userId": "18103146356865236729"
     },
     "user_tz": -120
    },
    "id": "eS-8aZkWAc6O",
    "outputId": "b03e6a76-cd32-4c6c-f136-d24a9ff46140"
   },
   "outputs": [
    {
     "data": {
      "text/html": [
       "\n",
       "  <div id=\"df-ed450de0-dadd-4a2d-a9f7-ad1220e5ab3b\">\n",
       "    <div class=\"colab-df-container\">\n",
       "      <div>\n",
       "<style scoped>\n",
       "    .dataframe tbody tr th:only-of-type {\n",
       "        vertical-align: middle;\n",
       "    }\n",
       "\n",
       "    .dataframe tbody tr th {\n",
       "        vertical-align: top;\n",
       "    }\n",
       "\n",
       "    .dataframe thead th {\n",
       "        text-align: right;\n",
       "    }\n",
       "</style>\n",
       "<table border=\"1\" class=\"dataframe\">\n",
       "  <thead>\n",
       "    <tr style=\"text-align: right;\">\n",
       "      <th></th>\n",
       "      <th>id</th>\n",
       "      <th>date</th>\n",
       "      <th>year_week</th>\n",
       "      <th>product_number</th>\n",
       "      <th>reporterhq_id</th>\n",
       "      <th>prod_category</th>\n",
       "      <th>specs</th>\n",
       "      <th>display_size</th>\n",
       "      <th>segment</th>\n",
       "      <th>sales_units</th>\n",
       "      <th>inventory_units</th>\n",
       "    </tr>\n",
       "  </thead>\n",
       "  <tbody>\n",
       "    <tr>\n",
       "      <th>0</th>\n",
       "      <td>202119-6909</td>\n",
       "      <td>2021-05-15</td>\n",
       "      <td>202119</td>\n",
       "      <td>6909</td>\n",
       "      <td>93</td>\n",
       "      <td>Arale</td>\n",
       "      <td>21274</td>\n",
       "      <td>13.3</td>\n",
       "      <td>Premium</td>\n",
       "      <td>2.0</td>\n",
       "      <td>35.0</td>\n",
       "    </tr>\n",
       "    <tr>\n",
       "      <th>1</th>\n",
       "      <td>202120-6909</td>\n",
       "      <td>2021-05-22</td>\n",
       "      <td>202120</td>\n",
       "      <td>6909</td>\n",
       "      <td>93</td>\n",
       "      <td>Arale</td>\n",
       "      <td>21274</td>\n",
       "      <td>13.3</td>\n",
       "      <td>Premium</td>\n",
       "      <td>0.0</td>\n",
       "      <td>70.0</td>\n",
       "    </tr>\n",
       "    <tr>\n",
       "      <th>2</th>\n",
       "      <td>202121-6909</td>\n",
       "      <td>2021-05-29</td>\n",
       "      <td>202121</td>\n",
       "      <td>6909</td>\n",
       "      <td>93</td>\n",
       "      <td>Arale</td>\n",
       "      <td>21274</td>\n",
       "      <td>13.3</td>\n",
       "      <td>Premium</td>\n",
       "      <td>3.0</td>\n",
       "      <td>137.0</td>\n",
       "    </tr>\n",
       "    <tr>\n",
       "      <th>3</th>\n",
       "      <td>202122-6909</td>\n",
       "      <td>2021-06-05</td>\n",
       "      <td>202122</td>\n",
       "      <td>6909</td>\n",
       "      <td>93</td>\n",
       "      <td>Arale</td>\n",
       "      <td>21274</td>\n",
       "      <td>13.3</td>\n",
       "      <td>Premium</td>\n",
       "      <td>0.0</td>\n",
       "      <td>274.0</td>\n",
       "    </tr>\n",
       "    <tr>\n",
       "      <th>4</th>\n",
       "      <td>202123-6909</td>\n",
       "      <td>2021-06-12</td>\n",
       "      <td>202123</td>\n",
       "      <td>6909</td>\n",
       "      <td>93</td>\n",
       "      <td>Arale</td>\n",
       "      <td>21274</td>\n",
       "      <td>13.3</td>\n",
       "      <td>Premium</td>\n",
       "      <td>0.0</td>\n",
       "      <td>333.0</td>\n",
       "    </tr>\n",
       "  </tbody>\n",
       "</table>\n",
       "</div>\n",
       "      <button class=\"colab-df-convert\" onclick=\"convertToInteractive('df-ed450de0-dadd-4a2d-a9f7-ad1220e5ab3b')\"\n",
       "              title=\"Convert this dataframe to an interactive table.\"\n",
       "              style=\"display:none;\">\n",
       "        \n",
       "  <svg xmlns=\"http://www.w3.org/2000/svg\" height=\"24px\"viewBox=\"0 0 24 24\"\n",
       "       width=\"24px\">\n",
       "    <path d=\"M0 0h24v24H0V0z\" fill=\"none\"/>\n",
       "    <path d=\"M18.56 5.44l.94 2.06.94-2.06 2.06-.94-2.06-.94-.94-2.06-.94 2.06-2.06.94zm-11 1L8.5 8.5l.94-2.06 2.06-.94-2.06-.94L8.5 2.5l-.94 2.06-2.06.94zm10 10l.94 2.06.94-2.06 2.06-.94-2.06-.94-.94-2.06-.94 2.06-2.06.94z\"/><path d=\"M17.41 7.96l-1.37-1.37c-.4-.4-.92-.59-1.43-.59-.52 0-1.04.2-1.43.59L10.3 9.45l-7.72 7.72c-.78.78-.78 2.05 0 2.83L4 21.41c.39.39.9.59 1.41.59.51 0 1.02-.2 1.41-.59l7.78-7.78 2.81-2.81c.8-.78.8-2.07 0-2.86zM5.41 20L4 18.59l7.72-7.72 1.47 1.35L5.41 20z\"/>\n",
       "  </svg>\n",
       "      </button>\n",
       "      \n",
       "  <style>\n",
       "    .colab-df-container {\n",
       "      display:flex;\n",
       "      flex-wrap:wrap;\n",
       "      gap: 12px;\n",
       "    }\n",
       "\n",
       "    .colab-df-convert {\n",
       "      background-color: #E8F0FE;\n",
       "      border: none;\n",
       "      border-radius: 50%;\n",
       "      cursor: pointer;\n",
       "      display: none;\n",
       "      fill: #1967D2;\n",
       "      height: 32px;\n",
       "      padding: 0 0 0 0;\n",
       "      width: 32px;\n",
       "    }\n",
       "\n",
       "    .colab-df-convert:hover {\n",
       "      background-color: #E2EBFA;\n",
       "      box-shadow: 0px 1px 2px rgba(60, 64, 67, 0.3), 0px 1px 3px 1px rgba(60, 64, 67, 0.15);\n",
       "      fill: #174EA6;\n",
       "    }\n",
       "\n",
       "    [theme=dark] .colab-df-convert {\n",
       "      background-color: #3B4455;\n",
       "      fill: #D2E3FC;\n",
       "    }\n",
       "\n",
       "    [theme=dark] .colab-df-convert:hover {\n",
       "      background-color: #434B5C;\n",
       "      box-shadow: 0px 1px 3px 1px rgba(0, 0, 0, 0.15);\n",
       "      filter: drop-shadow(0px 1px 2px rgba(0, 0, 0, 0.3));\n",
       "      fill: #FFFFFF;\n",
       "    }\n",
       "  </style>\n",
       "\n",
       "      <script>\n",
       "        const buttonEl =\n",
       "          document.querySelector('#df-ed450de0-dadd-4a2d-a9f7-ad1220e5ab3b button.colab-df-convert');\n",
       "        buttonEl.style.display =\n",
       "          google.colab.kernel.accessAllowed ? 'block' : 'none';\n",
       "\n",
       "        async function convertToInteractive(key) {\n",
       "          const element = document.querySelector('#df-ed450de0-dadd-4a2d-a9f7-ad1220e5ab3b');\n",
       "          const dataTable =\n",
       "            await google.colab.kernel.invokeFunction('convertToInteractive',\n",
       "                                                     [key], {});\n",
       "          if (!dataTable) return;\n",
       "\n",
       "          const docLinkHtml = 'Like what you see? Visit the ' +\n",
       "            '<a target=\"_blank\" href=https://colab.research.google.com/notebooks/data_table.ipynb>data table notebook</a>'\n",
       "            + ' to learn more about interactive tables.';\n",
       "          element.innerHTML = '';\n",
       "          dataTable['output_type'] = 'display_data';\n",
       "          await google.colab.output.renderOutput(dataTable, element);\n",
       "          const docLink = document.createElement('div');\n",
       "          docLink.innerHTML = docLinkHtml;\n",
       "          element.appendChild(docLink);\n",
       "        }\n",
       "      </script>\n",
       "    </div>\n",
       "  </div>\n",
       "  "
      ],
      "text/plain": [
       "            id        date  year_week  product_number  reporterhq_id  \\\n",
       "0  202119-6909  2021-05-15     202119            6909             93   \n",
       "1  202120-6909  2021-05-22     202120            6909             93   \n",
       "2  202121-6909  2021-05-29     202121            6909             93   \n",
       "3  202122-6909  2021-06-05     202122            6909             93   \n",
       "4  202123-6909  2021-06-12     202123            6909             93   \n",
       "\n",
       "  prod_category  specs  display_size  segment  sales_units  inventory_units  \n",
       "0         Arale  21274          13.3  Premium          2.0             35.0  \n",
       "1         Arale  21274          13.3  Premium          0.0             70.0  \n",
       "2         Arale  21274          13.3  Premium          3.0            137.0  \n",
       "3         Arale  21274          13.3  Premium          0.0            274.0  \n",
       "4         Arale  21274          13.3  Premium          0.0            333.0  "
      ]
     },
     "execution_count": 4,
     "metadata": {},
     "output_type": "execute_result"
    }
   ],
   "source": [
    "HP_raw.head()"
   ]
  },
  {
   "attachments": {},
   "cell_type": "markdown",
   "metadata": {
    "id": "f3g0-XXvBNZt"
   },
   "source": [
    "## Basic Description"
   ]
  },
  {
   "cell_type": "code",
   "execution_count": null,
   "metadata": {
    "colab": {
     "base_uri": "https://localhost:8080/",
     "height": 394
    },
    "executionInfo": {
     "elapsed": 432,
     "status": "ok",
     "timestamp": 1683959826979,
     "user": {
      "displayName": "Óscar Pérez Romero",
      "userId": "18103146356865236729"
     },
     "user_tz": -120
    },
    "id": "Lx5XbKlcBPdJ",
    "outputId": "c501a8d3-13af-41f3-a214-6ee3c094f966"
   },
   "outputs": [
    {
     "data": {
      "text/html": [
       "\n",
       "  <div id=\"df-c1341219-1072-4cd9-a685-a48ee7ca3774\">\n",
       "    <div class=\"colab-df-container\">\n",
       "      <div>\n",
       "<style scoped>\n",
       "    .dataframe tbody tr th:only-of-type {\n",
       "        vertical-align: middle;\n",
       "    }\n",
       "\n",
       "    .dataframe tbody tr th {\n",
       "        vertical-align: top;\n",
       "    }\n",
       "\n",
       "    .dataframe thead th {\n",
       "        text-align: right;\n",
       "    }\n",
       "</style>\n",
       "<table border=\"1\" class=\"dataframe\">\n",
       "  <thead>\n",
       "    <tr style=\"text-align: right;\">\n",
       "      <th></th>\n",
       "      <th>id</th>\n",
       "      <th>date</th>\n",
       "      <th>year_week</th>\n",
       "      <th>product_number</th>\n",
       "      <th>reporterhq_id</th>\n",
       "      <th>prod_category</th>\n",
       "      <th>specs</th>\n",
       "      <th>display_size</th>\n",
       "      <th>segment</th>\n",
       "      <th>sales_units</th>\n",
       "      <th>inventory_units</th>\n",
       "    </tr>\n",
       "  </thead>\n",
       "  <tbody>\n",
       "    <tr>\n",
       "      <th>count</th>\n",
       "      <td>15454</td>\n",
       "      <td>15454</td>\n",
       "      <td>15454.000000</td>\n",
       "      <td>15454.000000</td>\n",
       "      <td>15454.000000</td>\n",
       "      <td>15454</td>\n",
       "      <td>15454.000000</td>\n",
       "      <td>15454.000000</td>\n",
       "      <td>15454</td>\n",
       "      <td>14963.000000</td>\n",
       "      <td>14961.000000</td>\n",
       "    </tr>\n",
       "    <tr>\n",
       "      <th>unique</th>\n",
       "      <td>7709</td>\n",
       "      <td>213</td>\n",
       "      <td>NaN</td>\n",
       "      <td>NaN</td>\n",
       "      <td>NaN</td>\n",
       "      <td>7</td>\n",
       "      <td>NaN</td>\n",
       "      <td>NaN</td>\n",
       "      <td>3</td>\n",
       "      <td>NaN</td>\n",
       "      <td>NaN</td>\n",
       "    </tr>\n",
       "    <tr>\n",
       "      <th>top</th>\n",
       "      <td>202252-158907</td>\n",
       "      <td>2023-05-06</td>\n",
       "      <td>NaN</td>\n",
       "      <td>NaN</td>\n",
       "      <td>NaN</td>\n",
       "      <td>Clover</td>\n",
       "      <td>NaN</td>\n",
       "      <td>NaN</td>\n",
       "      <td>Core</td>\n",
       "      <td>NaN</td>\n",
       "      <td>NaN</td>\n",
       "    </tr>\n",
       "    <tr>\n",
       "      <th>freq</th>\n",
       "      <td>5</td>\n",
       "      <td>277</td>\n",
       "      <td>NaN</td>\n",
       "      <td>NaN</td>\n",
       "      <td>NaN</td>\n",
       "      <td>4235</td>\n",
       "      <td>NaN</td>\n",
       "      <td>NaN</td>\n",
       "      <td>7651</td>\n",
       "      <td>NaN</td>\n",
       "      <td>NaN</td>\n",
       "    </tr>\n",
       "    <tr>\n",
       "      <th>mean</th>\n",
       "      <td>NaN</td>\n",
       "      <td>NaN</td>\n",
       "      <td>202240.709202</td>\n",
       "      <td>127194.308076</td>\n",
       "      <td>42.140740</td>\n",
       "      <td>NaN</td>\n",
       "      <td>112262.542837</td>\n",
       "      <td>15.163543</td>\n",
       "      <td>NaN</td>\n",
       "      <td>25.974938</td>\n",
       "      <td>71.726222</td>\n",
       "    </tr>\n",
       "    <tr>\n",
       "      <th>std</th>\n",
       "      <td>NaN</td>\n",
       "      <td>NaN</td>\n",
       "      <td>61.596666</td>\n",
       "      <td>77503.015241</td>\n",
       "      <td>34.910293</td>\n",
       "      <td>NaN</td>\n",
       "      <td>63619.857944</td>\n",
       "      <td>1.422376</td>\n",
       "      <td>NaN</td>\n",
       "      <td>29.392055</td>\n",
       "      <td>66.145326</td>\n",
       "    </tr>\n",
       "    <tr>\n",
       "      <th>min</th>\n",
       "      <td>NaN</td>\n",
       "      <td>NaN</td>\n",
       "      <td>201915.000000</td>\n",
       "      <td>6909.000000</td>\n",
       "      <td>3.000000</td>\n",
       "      <td>NaN</td>\n",
       "      <td>967.000000</td>\n",
       "      <td>11.000000</td>\n",
       "      <td>NaN</td>\n",
       "      <td>0.000000</td>\n",
       "      <td>0.000000</td>\n",
       "    </tr>\n",
       "    <tr>\n",
       "      <th>25%</th>\n",
       "      <td>NaN</td>\n",
       "      <td>NaN</td>\n",
       "      <td>202218.000000</td>\n",
       "      <td>58233.000000</td>\n",
       "      <td>15.000000</td>\n",
       "      <td>NaN</td>\n",
       "      <td>58987.000000</td>\n",
       "      <td>14.000000</td>\n",
       "      <td>NaN</td>\n",
       "      <td>3.000000</td>\n",
       "      <td>26.000000</td>\n",
       "    </tr>\n",
       "    <tr>\n",
       "      <th>50%</th>\n",
       "      <td>NaN</td>\n",
       "      <td>NaN</td>\n",
       "      <td>202239.000000</td>\n",
       "      <td>116466.000000</td>\n",
       "      <td>24.000000</td>\n",
       "      <td>NaN</td>\n",
       "      <td>109271.000000</td>\n",
       "      <td>15.600000</td>\n",
       "      <td>NaN</td>\n",
       "      <td>16.000000</td>\n",
       "      <td>56.000000</td>\n",
       "    </tr>\n",
       "    <tr>\n",
       "      <th>75%</th>\n",
       "      <td>NaN</td>\n",
       "      <td>NaN</td>\n",
       "      <td>202304.000000</td>\n",
       "      <td>196413.000000</td>\n",
       "      <td>78.000000</td>\n",
       "      <td>NaN</td>\n",
       "      <td>157621.000000</td>\n",
       "      <td>15.600000</td>\n",
       "      <td>NaN</td>\n",
       "      <td>38.000000</td>\n",
       "      <td>97.000000</td>\n",
       "    </tr>\n",
       "    <tr>\n",
       "      <th>max</th>\n",
       "      <td>NaN</td>\n",
       "      <td>NaN</td>\n",
       "      <td>202318.000000</td>\n",
       "      <td>247737.000000</td>\n",
       "      <td>96.000000</td>\n",
       "      <td>NaN</td>\n",
       "      <td>236915.000000</td>\n",
       "      <td>17.300000</td>\n",
       "      <td>NaN</td>\n",
       "      <td>186.000000</td>\n",
       "      <td>399.000000</td>\n",
       "    </tr>\n",
       "  </tbody>\n",
       "</table>\n",
       "</div>\n",
       "      <button class=\"colab-df-convert\" onclick=\"convertToInteractive('df-c1341219-1072-4cd9-a685-a48ee7ca3774')\"\n",
       "              title=\"Convert this dataframe to an interactive table.\"\n",
       "              style=\"display:none;\">\n",
       "        \n",
       "  <svg xmlns=\"http://www.w3.org/2000/svg\" height=\"24px\"viewBox=\"0 0 24 24\"\n",
       "       width=\"24px\">\n",
       "    <path d=\"M0 0h24v24H0V0z\" fill=\"none\"/>\n",
       "    <path d=\"M18.56 5.44l.94 2.06.94-2.06 2.06-.94-2.06-.94-.94-2.06-.94 2.06-2.06.94zm-11 1L8.5 8.5l.94-2.06 2.06-.94-2.06-.94L8.5 2.5l-.94 2.06-2.06.94zm10 10l.94 2.06.94-2.06 2.06-.94-2.06-.94-.94-2.06-.94 2.06-2.06.94z\"/><path d=\"M17.41 7.96l-1.37-1.37c-.4-.4-.92-.59-1.43-.59-.52 0-1.04.2-1.43.59L10.3 9.45l-7.72 7.72c-.78.78-.78 2.05 0 2.83L4 21.41c.39.39.9.59 1.41.59.51 0 1.02-.2 1.41-.59l7.78-7.78 2.81-2.81c.8-.78.8-2.07 0-2.86zM5.41 20L4 18.59l7.72-7.72 1.47 1.35L5.41 20z\"/>\n",
       "  </svg>\n",
       "      </button>\n",
       "      \n",
       "  <style>\n",
       "    .colab-df-container {\n",
       "      display:flex;\n",
       "      flex-wrap:wrap;\n",
       "      gap: 12px;\n",
       "    }\n",
       "\n",
       "    .colab-df-convert {\n",
       "      background-color: #E8F0FE;\n",
       "      border: none;\n",
       "      border-radius: 50%;\n",
       "      cursor: pointer;\n",
       "      display: none;\n",
       "      fill: #1967D2;\n",
       "      height: 32px;\n",
       "      padding: 0 0 0 0;\n",
       "      width: 32px;\n",
       "    }\n",
       "\n",
       "    .colab-df-convert:hover {\n",
       "      background-color: #E2EBFA;\n",
       "      box-shadow: 0px 1px 2px rgba(60, 64, 67, 0.3), 0px 1px 3px 1px rgba(60, 64, 67, 0.15);\n",
       "      fill: #174EA6;\n",
       "    }\n",
       "\n",
       "    [theme=dark] .colab-df-convert {\n",
       "      background-color: #3B4455;\n",
       "      fill: #D2E3FC;\n",
       "    }\n",
       "\n",
       "    [theme=dark] .colab-df-convert:hover {\n",
       "      background-color: #434B5C;\n",
       "      box-shadow: 0px 1px 3px 1px rgba(0, 0, 0, 0.15);\n",
       "      filter: drop-shadow(0px 1px 2px rgba(0, 0, 0, 0.3));\n",
       "      fill: #FFFFFF;\n",
       "    }\n",
       "  </style>\n",
       "\n",
       "      <script>\n",
       "        const buttonEl =\n",
       "          document.querySelector('#df-c1341219-1072-4cd9-a685-a48ee7ca3774 button.colab-df-convert');\n",
       "        buttonEl.style.display =\n",
       "          google.colab.kernel.accessAllowed ? 'block' : 'none';\n",
       "\n",
       "        async function convertToInteractive(key) {\n",
       "          const element = document.querySelector('#df-c1341219-1072-4cd9-a685-a48ee7ca3774');\n",
       "          const dataTable =\n",
       "            await google.colab.kernel.invokeFunction('convertToInteractive',\n",
       "                                                     [key], {});\n",
       "          if (!dataTable) return;\n",
       "\n",
       "          const docLinkHtml = 'Like what you see? Visit the ' +\n",
       "            '<a target=\"_blank\" href=https://colab.research.google.com/notebooks/data_table.ipynb>data table notebook</a>'\n",
       "            + ' to learn more about interactive tables.';\n",
       "          element.innerHTML = '';\n",
       "          dataTable['output_type'] = 'display_data';\n",
       "          await google.colab.output.renderOutput(dataTable, element);\n",
       "          const docLink = document.createElement('div');\n",
       "          docLink.innerHTML = docLinkHtml;\n",
       "          element.appendChild(docLink);\n",
       "        }\n",
       "      </script>\n",
       "    </div>\n",
       "  </div>\n",
       "  "
      ],
      "text/plain": [
       "                   id        date      year_week  product_number  \\\n",
       "count           15454       15454   15454.000000    15454.000000   \n",
       "unique           7709         213            NaN             NaN   \n",
       "top     202252-158907  2023-05-06            NaN             NaN   \n",
       "freq                5         277            NaN             NaN   \n",
       "mean              NaN         NaN  202240.709202   127194.308076   \n",
       "std               NaN         NaN      61.596666    77503.015241   \n",
       "min               NaN         NaN  201915.000000     6909.000000   \n",
       "25%               NaN         NaN  202218.000000    58233.000000   \n",
       "50%               NaN         NaN  202239.000000   116466.000000   \n",
       "75%               NaN         NaN  202304.000000   196413.000000   \n",
       "max               NaN         NaN  202318.000000   247737.000000   \n",
       "\n",
       "        reporterhq_id prod_category          specs  display_size segment  \\\n",
       "count    15454.000000         15454   15454.000000  15454.000000   15454   \n",
       "unique            NaN             7            NaN           NaN       3   \n",
       "top               NaN        Clover            NaN           NaN    Core   \n",
       "freq              NaN          4235            NaN           NaN    7651   \n",
       "mean        42.140740           NaN  112262.542837     15.163543     NaN   \n",
       "std         34.910293           NaN   63619.857944      1.422376     NaN   \n",
       "min          3.000000           NaN     967.000000     11.000000     NaN   \n",
       "25%         15.000000           NaN   58987.000000     14.000000     NaN   \n",
       "50%         24.000000           NaN  109271.000000     15.600000     NaN   \n",
       "75%         78.000000           NaN  157621.000000     15.600000     NaN   \n",
       "max         96.000000           NaN  236915.000000     17.300000     NaN   \n",
       "\n",
       "         sales_units  inventory_units  \n",
       "count   14963.000000     14961.000000  \n",
       "unique           NaN              NaN  \n",
       "top              NaN              NaN  \n",
       "freq             NaN              NaN  \n",
       "mean       25.974938        71.726222  \n",
       "std        29.392055        66.145326  \n",
       "min         0.000000         0.000000  \n",
       "25%         3.000000        26.000000  \n",
       "50%        16.000000        56.000000  \n",
       "75%        38.000000        97.000000  \n",
       "max       186.000000       399.000000  "
      ]
     },
     "execution_count": 5,
     "metadata": {},
     "output_type": "execute_result"
    }
   ],
   "source": [
    "HP_raw.describe(include='all')"
   ]
  },
  {
   "cell_type": "code",
   "execution_count": null,
   "metadata": {
    "colab": {
     "base_uri": "https://localhost:8080/"
    },
    "executionInfo": {
     "elapsed": 11,
     "status": "ok",
     "timestamp": 1683959826980,
     "user": {
      "displayName": "Óscar Pérez Romero",
      "userId": "18103146356865236729"
     },
     "user_tz": -120
    },
    "id": "fnz-v2lrHxwX",
    "outputId": "d6ddcbe3-81e8-4191-8ac1-0aae86f52188"
   },
   "outputs": [
    {
     "data": {
      "text/plain": [
       "array([  6909,  17766,  25662,  58233,  65142,  81921,  93765, 138180,\n",
       "       143115, 201348, 213192, 214179, 230958, 231945, 247737])"
      ]
     },
     "execution_count": 6,
     "metadata": {},
     "output_type": "execute_result"
    }
   ],
   "source": [
    "HP_raw[HP_raw.prod_category == \"Arale\"].product_number.unique()"
   ]
  },
  {
   "cell_type": "code",
   "execution_count": null,
   "metadata": {
    "colab": {
     "base_uri": "https://localhost:8080/",
     "height": 423
    },
    "executionInfo": {
     "elapsed": 230,
     "status": "ok",
     "timestamp": 1683959827202,
     "user": {
      "displayName": "Óscar Pérez Romero",
      "userId": "18103146356865236729"
     },
     "user_tz": -120
    },
    "id": "49DBEJ0dPnfi",
    "outputId": "bafd4dbe-e3df-4357-8f6c-3c218eb3c016"
   },
   "outputs": [
    {
     "data": {
      "text/html": [
       "\n",
       "  <div id=\"df-a904b50b-8157-404a-bafb-e7b5ec43781a\">\n",
       "    <div class=\"colab-df-container\">\n",
       "      <div>\n",
       "<style scoped>\n",
       "    .dataframe tbody tr th:only-of-type {\n",
       "        vertical-align: middle;\n",
       "    }\n",
       "\n",
       "    .dataframe tbody tr th {\n",
       "        vertical-align: top;\n",
       "    }\n",
       "\n",
       "    .dataframe thead th {\n",
       "        text-align: right;\n",
       "    }\n",
       "</style>\n",
       "<table border=\"1\" class=\"dataframe\">\n",
       "  <thead>\n",
       "    <tr style=\"text-align: right;\">\n",
       "      <th></th>\n",
       "      <th>id</th>\n",
       "      <th>date</th>\n",
       "      <th>year_week</th>\n",
       "      <th>product_number</th>\n",
       "      <th>reporterhq_id</th>\n",
       "      <th>prod_category</th>\n",
       "      <th>specs</th>\n",
       "      <th>display_size</th>\n",
       "      <th>segment</th>\n",
       "      <th>sales_units</th>\n",
       "      <th>inventory_units</th>\n",
       "    </tr>\n",
       "  </thead>\n",
       "  <tbody>\n",
       "    <tr>\n",
       "      <th>10</th>\n",
       "      <td>202129-6909</td>\n",
       "      <td>2021-07-24</td>\n",
       "      <td>202129</td>\n",
       "      <td>6909</td>\n",
       "      <td>93</td>\n",
       "      <td>Arale</td>\n",
       "      <td>21274</td>\n",
       "      <td>13.3</td>\n",
       "      <td>Premium</td>\n",
       "      <td>91.0</td>\n",
       "      <td>62.0</td>\n",
       "    </tr>\n",
       "    <tr>\n",
       "      <th>28</th>\n",
       "      <td>202148-6909</td>\n",
       "      <td>2021-12-04</td>\n",
       "      <td>202148</td>\n",
       "      <td>6909</td>\n",
       "      <td>93</td>\n",
       "      <td>Arale</td>\n",
       "      <td>21274</td>\n",
       "      <td>13.3</td>\n",
       "      <td>Premium</td>\n",
       "      <td>81.0</td>\n",
       "      <td>48.0</td>\n",
       "    </tr>\n",
       "    <tr>\n",
       "      <th>40</th>\n",
       "      <td>202208-6909</td>\n",
       "      <td>2022-02-26</td>\n",
       "      <td>202208</td>\n",
       "      <td>6909</td>\n",
       "      <td>93</td>\n",
       "      <td>Arale</td>\n",
       "      <td>21274</td>\n",
       "      <td>13.3</td>\n",
       "      <td>Premium</td>\n",
       "      <td>13.0</td>\n",
       "      <td>5.0</td>\n",
       "    </tr>\n",
       "    <tr>\n",
       "      <th>41</th>\n",
       "      <td>202209-6909</td>\n",
       "      <td>2022-03-05</td>\n",
       "      <td>202209</td>\n",
       "      <td>6909</td>\n",
       "      <td>93</td>\n",
       "      <td>Arale</td>\n",
       "      <td>21274</td>\n",
       "      <td>13.3</td>\n",
       "      <td>Premium</td>\n",
       "      <td>2.0</td>\n",
       "      <td>2.0</td>\n",
       "    </tr>\n",
       "    <tr>\n",
       "      <th>46</th>\n",
       "      <td>202214-6909</td>\n",
       "      <td>2022-04-09</td>\n",
       "      <td>202214</td>\n",
       "      <td>6909</td>\n",
       "      <td>93</td>\n",
       "      <td>Arale</td>\n",
       "      <td>21274</td>\n",
       "      <td>13.3</td>\n",
       "      <td>Premium</td>\n",
       "      <td>0.0</td>\n",
       "      <td>0.0</td>\n",
       "    </tr>\n",
       "    <tr>\n",
       "      <th>...</th>\n",
       "      <td>...</td>\n",
       "      <td>...</td>\n",
       "      <td>...</td>\n",
       "      <td>...</td>\n",
       "      <td>...</td>\n",
       "      <td>...</td>\n",
       "      <td>...</td>\n",
       "      <td>...</td>\n",
       "      <td>...</td>\n",
       "      <td>...</td>\n",
       "      <td>...</td>\n",
       "    </tr>\n",
       "    <tr>\n",
       "      <th>15445</th>\n",
       "      <td>202316-247737</td>\n",
       "      <td>2023-04-22</td>\n",
       "      <td>202316</td>\n",
       "      <td>247737</td>\n",
       "      <td>3</td>\n",
       "      <td>Arale</td>\n",
       "      <td>10637</td>\n",
       "      <td>13.3</td>\n",
       "      <td>Premium</td>\n",
       "      <td>6.0</td>\n",
       "      <td>0.0</td>\n",
       "    </tr>\n",
       "    <tr>\n",
       "      <th>15447</th>\n",
       "      <td>202316-247737</td>\n",
       "      <td>2023-04-22</td>\n",
       "      <td>202316</td>\n",
       "      <td>247737</td>\n",
       "      <td>24</td>\n",
       "      <td>Arale</td>\n",
       "      <td>10637</td>\n",
       "      <td>13.3</td>\n",
       "      <td>Premium</td>\n",
       "      <td>6.0</td>\n",
       "      <td>2.0</td>\n",
       "    </tr>\n",
       "    <tr>\n",
       "      <th>15448</th>\n",
       "      <td>202317-247737</td>\n",
       "      <td>2023-04-29</td>\n",
       "      <td>202317</td>\n",
       "      <td>247737</td>\n",
       "      <td>3</td>\n",
       "      <td>Arale</td>\n",
       "      <td>10637</td>\n",
       "      <td>13.3</td>\n",
       "      <td>Premium</td>\n",
       "      <td>12.0</td>\n",
       "      <td>0.0</td>\n",
       "    </tr>\n",
       "    <tr>\n",
       "      <th>15451</th>\n",
       "      <td>202318-247737</td>\n",
       "      <td>2023-05-06</td>\n",
       "      <td>202318</td>\n",
       "      <td>247737</td>\n",
       "      <td>3</td>\n",
       "      <td>Arale</td>\n",
       "      <td>10637</td>\n",
       "      <td>13.3</td>\n",
       "      <td>Premium</td>\n",
       "      <td>22.0</td>\n",
       "      <td>0.0</td>\n",
       "    </tr>\n",
       "    <tr>\n",
       "      <th>15453</th>\n",
       "      <td>202318-247737</td>\n",
       "      <td>2023-05-06</td>\n",
       "      <td>202318</td>\n",
       "      <td>247737</td>\n",
       "      <td>24</td>\n",
       "      <td>Arale</td>\n",
       "      <td>10637</td>\n",
       "      <td>13.3</td>\n",
       "      <td>Premium</td>\n",
       "      <td>5.0</td>\n",
       "      <td>1.0</td>\n",
       "    </tr>\n",
       "  </tbody>\n",
       "</table>\n",
       "<p>3400 rows × 11 columns</p>\n",
       "</div>\n",
       "      <button class=\"colab-df-convert\" onclick=\"convertToInteractive('df-a904b50b-8157-404a-bafb-e7b5ec43781a')\"\n",
       "              title=\"Convert this dataframe to an interactive table.\"\n",
       "              style=\"display:none;\">\n",
       "        \n",
       "  <svg xmlns=\"http://www.w3.org/2000/svg\" height=\"24px\"viewBox=\"0 0 24 24\"\n",
       "       width=\"24px\">\n",
       "    <path d=\"M0 0h24v24H0V0z\" fill=\"none\"/>\n",
       "    <path d=\"M18.56 5.44l.94 2.06.94-2.06 2.06-.94-2.06-.94-.94-2.06-.94 2.06-2.06.94zm-11 1L8.5 8.5l.94-2.06 2.06-.94-2.06-.94L8.5 2.5l-.94 2.06-2.06.94zm10 10l.94 2.06.94-2.06 2.06-.94-2.06-.94-.94-2.06-.94 2.06-2.06.94z\"/><path d=\"M17.41 7.96l-1.37-1.37c-.4-.4-.92-.59-1.43-.59-.52 0-1.04.2-1.43.59L10.3 9.45l-7.72 7.72c-.78.78-.78 2.05 0 2.83L4 21.41c.39.39.9.59 1.41.59.51 0 1.02-.2 1.41-.59l7.78-7.78 2.81-2.81c.8-.78.8-2.07 0-2.86zM5.41 20L4 18.59l7.72-7.72 1.47 1.35L5.41 20z\"/>\n",
       "  </svg>\n",
       "      </button>\n",
       "      \n",
       "  <style>\n",
       "    .colab-df-container {\n",
       "      display:flex;\n",
       "      flex-wrap:wrap;\n",
       "      gap: 12px;\n",
       "    }\n",
       "\n",
       "    .colab-df-convert {\n",
       "      background-color: #E8F0FE;\n",
       "      border: none;\n",
       "      border-radius: 50%;\n",
       "      cursor: pointer;\n",
       "      display: none;\n",
       "      fill: #1967D2;\n",
       "      height: 32px;\n",
       "      padding: 0 0 0 0;\n",
       "      width: 32px;\n",
       "    }\n",
       "\n",
       "    .colab-df-convert:hover {\n",
       "      background-color: #E2EBFA;\n",
       "      box-shadow: 0px 1px 2px rgba(60, 64, 67, 0.3), 0px 1px 3px 1px rgba(60, 64, 67, 0.15);\n",
       "      fill: #174EA6;\n",
       "    }\n",
       "\n",
       "    [theme=dark] .colab-df-convert {\n",
       "      background-color: #3B4455;\n",
       "      fill: #D2E3FC;\n",
       "    }\n",
       "\n",
       "    [theme=dark] .colab-df-convert:hover {\n",
       "      background-color: #434B5C;\n",
       "      box-shadow: 0px 1px 3px 1px rgba(0, 0, 0, 0.15);\n",
       "      filter: drop-shadow(0px 1px 2px rgba(0, 0, 0, 0.3));\n",
       "      fill: #FFFFFF;\n",
       "    }\n",
       "  </style>\n",
       "\n",
       "      <script>\n",
       "        const buttonEl =\n",
       "          document.querySelector('#df-a904b50b-8157-404a-bafb-e7b5ec43781a button.colab-df-convert');\n",
       "        buttonEl.style.display =\n",
       "          google.colab.kernel.accessAllowed ? 'block' : 'none';\n",
       "\n",
       "        async function convertToInteractive(key) {\n",
       "          const element = document.querySelector('#df-a904b50b-8157-404a-bafb-e7b5ec43781a');\n",
       "          const dataTable =\n",
       "            await google.colab.kernel.invokeFunction('convertToInteractive',\n",
       "                                                     [key], {});\n",
       "          if (!dataTable) return;\n",
       "\n",
       "          const docLinkHtml = 'Like what you see? Visit the ' +\n",
       "            '<a target=\"_blank\" href=https://colab.research.google.com/notebooks/data_table.ipynb>data table notebook</a>'\n",
       "            + ' to learn more about interactive tables.';\n",
       "          element.innerHTML = '';\n",
       "          dataTable['output_type'] = 'display_data';\n",
       "          await google.colab.output.renderOutput(dataTable, element);\n",
       "          const docLink = document.createElement('div');\n",
       "          docLink.innerHTML = docLinkHtml;\n",
       "          element.appendChild(docLink);\n",
       "        }\n",
       "      </script>\n",
       "    </div>\n",
       "  </div>\n",
       "  "
      ],
      "text/plain": [
       "                  id        date  year_week  product_number  reporterhq_id  \\\n",
       "10       202129-6909  2021-07-24     202129            6909             93   \n",
       "28       202148-6909  2021-12-04     202148            6909             93   \n",
       "40       202208-6909  2022-02-26     202208            6909             93   \n",
       "41       202209-6909  2022-03-05     202209            6909             93   \n",
       "46       202214-6909  2022-04-09     202214            6909             93   \n",
       "...              ...         ...        ...             ...            ...   \n",
       "15445  202316-247737  2023-04-22     202316          247737              3   \n",
       "15447  202316-247737  2023-04-22     202316          247737             24   \n",
       "15448  202317-247737  2023-04-29     202317          247737              3   \n",
       "15451  202318-247737  2023-05-06     202318          247737              3   \n",
       "15453  202318-247737  2023-05-06     202318          247737             24   \n",
       "\n",
       "      prod_category  specs  display_size  segment  sales_units  \\\n",
       "10            Arale  21274          13.3  Premium         91.0   \n",
       "28            Arale  21274          13.3  Premium         81.0   \n",
       "40            Arale  21274          13.3  Premium         13.0   \n",
       "41            Arale  21274          13.3  Premium          2.0   \n",
       "46            Arale  21274          13.3  Premium          0.0   \n",
       "...             ...    ...           ...      ...          ...   \n",
       "15445         Arale  10637          13.3  Premium          6.0   \n",
       "15447         Arale  10637          13.3  Premium          6.0   \n",
       "15448         Arale  10637          13.3  Premium         12.0   \n",
       "15451         Arale  10637          13.3  Premium         22.0   \n",
       "15453         Arale  10637          13.3  Premium          5.0   \n",
       "\n",
       "       inventory_units  \n",
       "10                62.0  \n",
       "28                48.0  \n",
       "40                 5.0  \n",
       "41                 2.0  \n",
       "46                 0.0  \n",
       "...                ...  \n",
       "15445              0.0  \n",
       "15447              2.0  \n",
       "15448              0.0  \n",
       "15451              0.0  \n",
       "15453              1.0  \n",
       "\n",
       "[3400 rows x 11 columns]"
      ]
     },
     "execution_count": 7,
     "metadata": {},
     "output_type": "execute_result"
    }
   ],
   "source": [
    "HP_raw[HP_raw.sales_units >= HP_raw.inventory_units]"
   ]
  },
  {
   "attachments": {},
   "cell_type": "markdown",
   "metadata": {
    "id": "tVMvMyRJ3O3G"
   },
   "source": [
    "## Imputation"
   ]
  },
  {
   "cell_type": "code",
   "execution_count": null,
   "metadata": {
    "colab": {
     "base_uri": "https://localhost:8080/"
    },
    "executionInfo": {
     "elapsed": 10,
     "status": "ok",
     "timestamp": 1683960476283,
     "user": {
      "displayName": "Óscar Pérez Romero",
      "userId": "18103146356865236729"
     },
     "user_tz": -120
    },
    "id": "RPshy7Vq3OUZ",
    "outputId": "64461df2-695c-46fd-9773-ccdbca24ed9b"
   },
   "outputs": [
    {
     "data": {
      "text/plain": [
       "id                   0\n",
       "date                 0\n",
       "year_week            0\n",
       "product_number       0\n",
       "reporterhq_id        0\n",
       "prod_category        0\n",
       "specs                0\n",
       "display_size         0\n",
       "segment              0\n",
       "sales_units        491\n",
       "inventory_units    493\n",
       "dtype: int64"
      ]
     },
     "execution_count": 31,
     "metadata": {},
     "output_type": "execute_result"
    }
   ],
   "source": [
    "HP_raw.isna().sum()"
   ]
  },
  {
   "attachments": {},
   "cell_type": "markdown",
   "metadata": {
    "id": "YjX6aYnoywmy"
   },
   "source": [
    "## Functions Predict"
   ]
  },
  {
   "cell_type": "code",
   "execution_count": 45,
   "metadata": {
    "executionInfo": {
     "elapsed": 313,
     "status": "ok",
     "timestamp": 1683991854207,
     "user": {
      "displayName": "Óscar Pérez Romero",
      "userId": "18103146356865236729"
     },
     "user_tz": -120
    },
    "id": "ugeBF10568ki"
   },
   "outputs": [],
   "source": [
    "def LMSalgorithm(x, K, L):\n",
    "  L = int(L)\n",
    "  total_error = 0\n",
    "  iterations = 0\n",
    "  #print(L, K)\n",
    "  #print(total_error, iterations)\n",
    "  Nr = x@x\n",
    "  if Nr == 0:\n",
    "    Nr = Nr +0.0000000001\n",
    "  mu = 2/Nr*K\n",
    "  i = 0\n",
    "  h = np.zeros(L)\n",
    "  x_n = x[i:i+L]\n",
    "  while (i+L < len(x)):\n",
    "    d = x[i+L]\n",
    "    x_n = x[i:i+L]\n",
    "    y = x_n@h\n",
    "    if y%2 < 0.5:\n",
    "      y = y+1\n",
    "    y = int(y)\n",
    "    e = d-y\n",
    "    total_error = total_error + e*e*1/(len(x)-i-L)**2\n",
    "    iterations = iterations+1\n",
    "    h = h+mu*x_n*e\n",
    "    i = i+1\n",
    "  return np.sqrt(total_error/iterations), x_n@h\n"
   ]
  },
  {
   "cell_type": "code",
   "execution_count": 37,
   "metadata": {
    "executionInfo": {
     "elapsed": 314,
     "status": "ok",
     "timestamp": 1683991865235,
     "user": {
      "displayName": "Óscar Pérez Romero",
      "userId": "18103146356865236729"
     },
     "user_tz": -120
    },
    "id": "gnMnji2ne5oK"
   },
   "outputs": [],
   "source": [
    "def LMSalgorithm_adaptativeMU(x, K, L):\n",
    "  L = int(L)\n",
    "  total_error = 0\n",
    "  iterations = 0\n",
    "  i = 0\n",
    "  h = np.zeros(L)\n",
    "  x_n = x[i:i+L]\n",
    "  while (i+L < len(x)):\n",
    "    d = x[i+L]\n",
    "    x_n = x[i:i+L]\n",
    "    y = x_n@h\n",
    "    if y%2 < 0.5:\n",
    "      y = y + 1\n",
    "    y = int(y)\n",
    "    e = d-y\n",
    "    total_error = total_error + e*e*1/(len(x)-i-L)**2\n",
    "    iterations = iterations+1\n",
    "    Nr = x_n@x_n\n",
    "    if Nr == 0:\n",
    "      Nr = Nr+0.0000000001\n",
    "    mu = 2/Nr*K\n",
    "    h = h+mu*x_n*e\n",
    "    i = i+1\n",
    "  return np.sqrt(total_error/iterations), x_n@h"
   ]
  },
  {
   "cell_type": "code",
   "execution_count": 22,
   "metadata": {
    "executionInfo": {
     "elapsed": 314,
     "status": "ok",
     "timestamp": 1683991537806,
     "user": {
      "displayName": "Óscar Pérez Romero",
      "userId": "18103146356865236729"
     },
     "user_tz": -120
    },
    "id": "qZdPYg7OrD9p"
   },
   "outputs": [],
   "source": [
    "possible_K = np.array([1/2, 1/3, 1/5, 1/10, 1/50, 1/100])\n",
    "possible_L = np.array([1, 2, 3, 4, 5, 6, 7, 8, 9, 10])\n",
    "\n",
    "def IPA_prediction(x):\n",
    "  min_error = 100000000\n",
    "  for k in range(len(possible_K)):\n",
    "    for l in range(len(possible_L)):\n",
    "      [rmse, pred] = LMSalgorithm(x, possible_K[k], possible_L[l]) \n",
    "      if rmse < min_error:\n",
    "        min_error = rmse\n",
    "        best_L = possible_L[l]\n",
    "        best_K = possible_K[k]\n",
    "        best_algorithm = LMSalgorithm\n",
    "      [rmse, pred] = LMSalgorithm_adaptativeMU(x, possible_K[k], possible_L[l])\n",
    "      if rmse < min_error:\n",
    "        min_error = rmse\n",
    "        best_L = possible_L[l]\n",
    "        best_K = possible_K[k]\n",
    "        best_algorithm = LMSalgorithm_adaptativeMU\n",
    "  return best_L, best_K, best_algorithm\n"
   ]
  },
  {
   "attachments": {},
   "cell_type": "markdown",
   "metadata": {
    "id": "dC3eJgMIV6V4"
   },
   "source": [
    "## Preprocessing"
   ]
  },
  {
   "cell_type": "code",
   "execution_count": 23,
   "metadata": {
    "id": "_okyDeG_WAN7"
   },
   "outputs": [],
   "source": [
    "def remove_duplicates(df):\n",
    "    ''' Returns pandas.DataFrame without duplicate elements.'''\n",
    "    df = df.copy()\n",
    "    to_drop = []\n",
    "    sales = 0.\n",
    "    inventory = 0.\n",
    "\n",
    "    for idx, (id, next_id)  in enumerate(zip_longest(df.id, df.id[1:])):\n",
    "        item = df.iloc[idx]\n",
    "\n",
    "        if id == next_id:\n",
    "            sales += item['sales_units']\n",
    "            inventory += item['inventory_units']\n",
    "            to_drop.append(idx)\n",
    "        \n",
    "        else:\n",
    "            df.loc[idx, 'sales_units'] += sales\n",
    "            df.loc[idx, 'inventory_units'] += inventory\n",
    "            sales = 0.\n",
    "            inventory = 0.\n",
    "\n",
    "    df = df.drop(to_drop)\n",
    "    df = df.reset_index(drop=True)\n",
    "    return df\n",
    "\n",
    "def remove_nan(df):\n",
    "    ''' Returns pandas.DataFrame without nan elements.'''\n",
    "    inv = 'inventory_units'\n",
    "    for idx in range(1, len(df)):\n",
    "        item = df.iloc[idx]\n",
    "\n",
    "        if np.isnan(item['sales_units']):\n",
    "            df.loc[idx, 'sales_units'] = max(0., df.loc[idx-1, inv] - item[inv])\n",
    "\n",
    "        if np.isnan(item['inventory_units']):\n",
    "            df.loc[idx, 'inventory_units'] = max(0., df.loc[idx-1, inv]-item['sales_units'])\n",
    "\n",
    "    return df"
   ]
  },
  {
   "cell_type": "code",
   "execution_count": 6,
   "metadata": {
    "id": "jwuGM8yM2EHF"
   },
   "outputs": [],
   "source": [
    "def create_characteristics_and_inventory_matrix(df):\n",
    "    ''' Returns a DataFrame of the characteristics of each product, a Matrix of the different inventories for each product,\n",
    "        and a dictionary relating each product with its index in both the DataFrame and the Matrix.'''\n",
    "    inv_matrix = []\n",
    "    product_dict = {}\n",
    "    prev = 0\n",
    "    i = 0\n",
    "    chars = pd.DataFrame(columns=list(df.columns[2:-2])+['avg_sales', 'avg_inventory'])\n",
    "\n",
    "    for idx, (num1, num2) in enumerate(zip_longest(df.product_number, df.product_number[1:])):\n",
    "        if num1 != num2:\n",
    "\n",
    "            sales = np.array(df.sales_units[prev:idx+1])\n",
    "            inventory = np.array(df.inventory_units[prev:idx+1])\n",
    "            inv_matrix.append(inventory)\n",
    "\n",
    "            item = df.iloc[idx]\n",
    "            chars.loc[i] = [item[c] for c in chars.columns[:-2]] + [np.average(sales), np.average(inventory)]\n",
    "            \n",
    "            product_dict[str(num1)] = i\n",
    "            i += 1\n",
    "            prev = idx+1\n",
    "\n",
    "    return chars, inv_matrix, product_dict"
   ]
  },
  {
   "cell_type": "code",
   "execution_count": 24,
   "metadata": {},
   "outputs": [],
   "source": [
    "df = remove_duplicates(HP_raw)\n",
    "df = remove_nan(df)\n",
    "[chars, inv_matrix, product_dict] = create_characteristics_and_inventory_matrix(df)"
   ]
  },
  {
   "cell_type": "code",
   "execution_count": 9,
   "metadata": {},
   "outputs": [],
   "source": [
    "[chars, inv_matrix, product_dict] = create_characteristics_and_inventory_matrix(df)"
   ]
  },
  {
   "cell_type": "code",
   "execution_count": 10,
   "metadata": {},
   "outputs": [
    {
     "data": {
      "text/plain": [
       "{'105609': 42,\n",
       " '107583': 43,\n",
       " '10857': 4,\n",
       " '109557': 44,\n",
       " '112518': 45,\n",
       " '114492': 46,\n",
       " '116466': 47,\n",
       " '11844': 5,\n",
       " '119427': 48,\n",
       " '127323': 49,\n",
       " '12831': 6,\n",
       " '129297': 50,\n",
       " '130284': 51,\n",
       " '138180': 52,\n",
       " '143115': 53,\n",
       " '14805': 7,\n",
       " '148050': 54,\n",
       " '155946': 55,\n",
       " '157920': 56,\n",
       " '158907': 57,\n",
       " '163842': 58,\n",
       " '165816': 59,\n",
       " '167790': 60,\n",
       " '169764': 61,\n",
       " '171738': 62,\n",
       " '172725': 63,\n",
       " '175686': 64,\n",
       " '17766': 8,\n",
       " '177660': 65,\n",
       " '182595': 66,\n",
       " '183582': 67,\n",
       " '184569': 68,\n",
       " '187530': 69,\n",
       " '190491': 70,\n",
       " '191478': 71,\n",
       " '192465': 72,\n",
       " '193452': 73,\n",
       " '195426': 74,\n",
       " '196413': 75,\n",
       " '197400': 76,\n",
       " '201348': 77,\n",
       " '204309': 78,\n",
       " '205296': 79,\n",
       " '211218': 80,\n",
       " '213192': 81,\n",
       " '214179': 82,\n",
       " '219114': 83,\n",
       " '220101': 84,\n",
       " '221088': 85,\n",
       " '222075': 86,\n",
       " '226023': 87,\n",
       " '230958': 88,\n",
       " '231945': 89,\n",
       " '233919': 90,\n",
       " '234906': 91,\n",
       " '235893': 92,\n",
       " '236880': 93,\n",
       " '237867': 94,\n",
       " '238854': 95,\n",
       " '239841': 96,\n",
       " '240828': 97,\n",
       " '242802': 98,\n",
       " '24675': 9,\n",
       " '247737': 99,\n",
       " '25662': 10,\n",
       " '30597': 11,\n",
       " '32571': 12,\n",
       " '33558': 13,\n",
       " '37506': 14,\n",
       " '41454': 15,\n",
       " '43428': 16,\n",
       " '45402': 17,\n",
       " '46389': 18,\n",
       " '48363': 19,\n",
       " '51324': 20,\n",
       " '57246': 21,\n",
       " '58233': 22,\n",
       " '59220': 23,\n",
       " '62181': 24,\n",
       " '64155': 25,\n",
       " '65142': 26,\n",
       " '6909': 0,\n",
       " '73038': 27,\n",
       " '75012': 28,\n",
       " '77973': 29,\n",
       " '7896': 1,\n",
       " '80934': 30,\n",
       " '81921': 31,\n",
       " '82908': 32,\n",
       " '83895': 33,\n",
       " '86856': 34,\n",
       " '87843': 35,\n",
       " '8883': 2,\n",
       " '89817': 36,\n",
       " '91791': 37,\n",
       " '92778': 38,\n",
       " '93765': 39,\n",
       " '94752': 40,\n",
       " '9870': 3,\n",
       " '99687': 41}"
      ]
     },
     "execution_count": 10,
     "metadata": {},
     "output_type": "execute_result"
    }
   ],
   "source": [
    "dict(sorted(product_dict.items()))"
   ]
  },
  {
   "attachments": {},
   "cell_type": "markdown",
   "metadata": {
    "id": "HUbvgnWvjVZg"
   },
   "source": [
    "## IPA with neat dataset"
   ]
  },
  {
   "cell_type": "code",
   "execution_count": 6,
   "metadata": {
    "id": "QjAKaK63jU5u"
   },
   "outputs": [
    {
     "data": {
      "text/plain": [
       "(7709, 10)"
      ]
     },
     "execution_count": 6,
     "metadata": {},
     "output_type": "execute_result"
    }
   ],
   "source": [
    "IPA_data = pd.read_csv(\"../data/preprocessed_data_with_week_num.csv\", header=0, delimiter=',')\n",
    "IPA_data.shape"
   ]
  },
  {
   "cell_type": "code",
   "execution_count": 7,
   "metadata": {
    "colab": {
     "base_uri": "https://localhost:8080/",
     "height": 206
    },
    "executionInfo": {
     "elapsed": 11,
     "status": "ok",
     "timestamp": 1683973085673,
     "user": {
      "displayName": "Óscar Pérez Romero",
      "userId": "18103146356865236729"
     },
     "user_tz": -120
    },
    "id": "UiKc72ABnaz5",
    "outputId": "b9172d5b-ce5b-4065-e542-7b1c4ca8f6a5"
   },
   "outputs": [
    {
     "data": {
      "text/html": [
       "<div>\n",
       "<style scoped>\n",
       "    .dataframe tbody tr th:only-of-type {\n",
       "        vertical-align: middle;\n",
       "    }\n",
       "\n",
       "    .dataframe tbody tr th {\n",
       "        vertical-align: top;\n",
       "    }\n",
       "\n",
       "    .dataframe thead th {\n",
       "        text-align: right;\n",
       "    }\n",
       "</style>\n",
       "<table border=\"1\" class=\"dataframe\">\n",
       "  <thead>\n",
       "    <tr style=\"text-align: right;\">\n",
       "      <th></th>\n",
       "      <th>id</th>\n",
       "      <th>week_num</th>\n",
       "      <th>product_number</th>\n",
       "      <th>reporterhq_id</th>\n",
       "      <th>prod_category</th>\n",
       "      <th>specs</th>\n",
       "      <th>display_size</th>\n",
       "      <th>segment</th>\n",
       "      <th>sales_units</th>\n",
       "      <th>inventory_units</th>\n",
       "    </tr>\n",
       "  </thead>\n",
       "  <tbody>\n",
       "    <tr>\n",
       "      <th>0</th>\n",
       "      <td>202119-6909</td>\n",
       "      <td>123</td>\n",
       "      <td>6909</td>\n",
       "      <td>93</td>\n",
       "      <td>Arale</td>\n",
       "      <td>21274</td>\n",
       "      <td>13.3</td>\n",
       "      <td>Premium</td>\n",
       "      <td>2.0</td>\n",
       "      <td>35.0</td>\n",
       "    </tr>\n",
       "    <tr>\n",
       "      <th>1</th>\n",
       "      <td>202120-6909</td>\n",
       "      <td>124</td>\n",
       "      <td>6909</td>\n",
       "      <td>93</td>\n",
       "      <td>Arale</td>\n",
       "      <td>21274</td>\n",
       "      <td>13.3</td>\n",
       "      <td>Premium</td>\n",
       "      <td>0.0</td>\n",
       "      <td>70.0</td>\n",
       "    </tr>\n",
       "    <tr>\n",
       "      <th>2</th>\n",
       "      <td>202121-6909</td>\n",
       "      <td>125</td>\n",
       "      <td>6909</td>\n",
       "      <td>93</td>\n",
       "      <td>Arale</td>\n",
       "      <td>21274</td>\n",
       "      <td>13.3</td>\n",
       "      <td>Premium</td>\n",
       "      <td>3.0</td>\n",
       "      <td>137.0</td>\n",
       "    </tr>\n",
       "    <tr>\n",
       "      <th>3</th>\n",
       "      <td>202122-6909</td>\n",
       "      <td>126</td>\n",
       "      <td>6909</td>\n",
       "      <td>93</td>\n",
       "      <td>Arale</td>\n",
       "      <td>21274</td>\n",
       "      <td>13.3</td>\n",
       "      <td>Premium</td>\n",
       "      <td>0.0</td>\n",
       "      <td>274.0</td>\n",
       "    </tr>\n",
       "    <tr>\n",
       "      <th>4</th>\n",
       "      <td>202123-6909</td>\n",
       "      <td>127</td>\n",
       "      <td>6909</td>\n",
       "      <td>93</td>\n",
       "      <td>Arale</td>\n",
       "      <td>21274</td>\n",
       "      <td>13.3</td>\n",
       "      <td>Premium</td>\n",
       "      <td>0.0</td>\n",
       "      <td>333.0</td>\n",
       "    </tr>\n",
       "  </tbody>\n",
       "</table>\n",
       "</div>"
      ],
      "text/plain": [
       "            id  week_num  product_number  reporterhq_id prod_category  specs  \\\n",
       "0  202119-6909       123            6909             93         Arale  21274   \n",
       "1  202120-6909       124            6909             93         Arale  21274   \n",
       "2  202121-6909       125            6909             93         Arale  21274   \n",
       "3  202122-6909       126            6909             93         Arale  21274   \n",
       "4  202123-6909       127            6909             93         Arale  21274   \n",
       "\n",
       "   display_size  segment  sales_units  inventory_units  \n",
       "0          13.3  Premium          2.0             35.0  \n",
       "1          13.3  Premium          0.0             70.0  \n",
       "2          13.3  Premium          3.0            137.0  \n",
       "3          13.3  Premium          0.0            274.0  \n",
       "4          13.3  Premium          0.0            333.0  "
      ]
     },
     "execution_count": 7,
     "metadata": {},
     "output_type": "execute_result"
    }
   ],
   "source": [
    "IPA_data.head()"
   ]
  },
  {
   "cell_type": "code",
   "execution_count": 8,
   "metadata": {
    "colab": {
     "base_uri": "https://localhost:8080/"
    },
    "executionInfo": {
     "elapsed": 427,
     "status": "ok",
     "timestamp": 1683991983444,
     "user": {
      "displayName": "Óscar Pérez Romero",
      "userId": "18103146356865236729"
     },
     "user_tz": -120
    },
    "id": "7NJla17cjy2a",
    "outputId": "b51f5012-dd48-4325-ea5f-14aa3f4971c7"
   },
   "outputs": [
    {
     "name": "stdout",
     "output_type": "stream",
     "text": [
      "179.0\n"
     ]
    }
   ],
   "source": [
    "x = np.array(IPA_data.inventory_units[202:302])\n",
    "d = IPA_data.inventory_units[302]\n",
    "print(d)"
   ]
  },
  {
   "cell_type": "code",
   "execution_count": 20,
   "metadata": {
    "colab": {
     "base_uri": "https://localhost:8080/"
    },
    "executionInfo": {
     "elapsed": 319,
     "status": "ok",
     "timestamp": 1683991994705,
     "user": {
      "displayName": "Óscar Pérez Romero",
      "userId": "18103146356865236729"
     },
     "user_tz": -120
    },
    "id": "UDnenmuWuaXJ",
    "outputId": "268ac84e-338b-453e-e42c-6223458ca4ef"
   },
   "outputs": [
    {
     "name": "stdout",
     "output_type": "stream",
     "text": [
      "7 0.3333333333333333 <function LMSalgorithm_adaptativeMU at 0x000002C62BB621F0>\n"
     ]
    }
   ],
   "source": [
    "best = IPA_prediction(x)\n",
    "print(best[0], best[1], best[2])"
   ]
  },
  {
   "cell_type": "code",
   "execution_count": 21,
   "metadata": {
    "colab": {
     "base_uri": "https://localhost:8080/"
    },
    "executionInfo": {
     "elapsed": 311,
     "status": "ok",
     "timestamp": 1683992000089,
     "user": {
      "displayName": "Óscar Pérez Romero",
      "userId": "18103146356865236729"
     },
     "user_tz": -120
    },
    "id": "CG8PgFZT3lSZ",
    "outputId": "401c0863-bc88-4a04-cbf1-889837695d46"
   },
   "outputs": [
    {
     "name": "stdout",
     "output_type": "stream",
     "text": [
      "159.18452306796777\n"
     ]
    }
   ],
   "source": [
    "[rmse , pred]=best[2](x, best[1], best[0])\n",
    "print(pred)"
   ]
  },
  {
   "cell_type": "code",
   "execution_count": 38,
   "metadata": {},
   "outputs": [
    {
     "name": "stdout",
     "output_type": "stream",
     "text": [
      "116.66320557840375\n"
     ]
    }
   ],
   "source": [
    "total=0\n",
    "for i in range(len(inv_matrix)):\n",
    "    x = inv_matrix[i][:-13]\n",
    "    d = inv_matrix[i][-13:]\n",
    "    for j in range(13):\n",
    "        best = IPA_prediction(x)\n",
    "        [rmse , pred]=best[2](x, best[1], best[0])\n",
    "        #print(\"Prediction: \", pred)\n",
    "        #print(\"Real Value: \", d)\n",
    "        total = total + abs(pred-d[j])**2\n",
    "        x = np.block([x, pred])\n",
    "\n",
    "print(np.sqrt(total/(len(inv_matrix)*13)))\n",
    "               "
   ]
  },
  {
   "cell_type": "code",
   "execution_count": 39,
   "metadata": {},
   "outputs": [],
   "source": [
    "res_matrix = [[],[],[],[],[],[],[],[],[],[],[],[],[]]\n",
    "for i in range(len(inv_matrix)):\n",
    "    x = inv_matrix[i][:]\n",
    "    for j in range(13):\n",
    "        best = IPA_prediction(x)\n",
    "        [rmse , pred]=best[2](x, best[1], best[0])\n",
    "        #print(i, \" \", j)\n",
    "        #print(pred)\n",
    "        res_matrix[j].append(pred)\n",
    "        x = np.block([x, pred])\n",
    "\n"
   ]
  },
  {
   "cell_type": "code",
   "execution_count": 40,
   "metadata": {},
   "outputs": [],
   "source": [
    "new_prod_dict = dict(sorted(product_dict.items()))"
   ]
  },
  {
   "cell_type": "code",
   "execution_count": 41,
   "metadata": {},
   "outputs": [],
   "source": [
    "week = 202319\n",
    "final_dict = {}\n",
    "for i in range(13):\n",
    "    for item in new_prod_dict:\n",
    "        final_dict[str(week+i)+\"-\"+item] = res_matrix[i][new_prod_dict[item]]\n"
   ]
  },
  {
   "cell_type": "code",
   "execution_count": 42,
   "metadata": {},
   "outputs": [],
   "source": [
    "final_id = []\n",
    "final_items = []\n",
    "for item in final_dict:\n",
    "    final_id.append(item)\n",
    "    final_items.append(final_dict[item])"
   ]
  },
  {
   "cell_type": "code",
   "execution_count": 43,
   "metadata": {},
   "outputs": [],
   "source": [
    "df_final = pd.DataFrame({'id': final_id, 'inventory_units': final_items})"
   ]
  },
  {
   "cell_type": "code",
   "execution_count": 44,
   "metadata": {},
   "outputs": [],
   "source": [
    "df_final.to_csv('../submissions/submission4.csv', index = False)"
   ]
  }
 ],
 "metadata": {
  "colab": {
   "provenance": []
  },
  "kernelspec": {
   "display_name": "Python 3 (ipykernel)",
   "language": "python",
   "name": "python3"
  },
  "language_info": {
   "codemirror_mode": {
    "name": "ipython",
    "version": 3
   },
   "file_extension": ".py",
   "mimetype": "text/x-python",
   "name": "python",
   "nbconvert_exporter": "python",
   "pygments_lexer": "ipython3",
   "version": "3.8.5"
  }
 },
 "nbformat": 4,
 "nbformat_minor": 4
}
