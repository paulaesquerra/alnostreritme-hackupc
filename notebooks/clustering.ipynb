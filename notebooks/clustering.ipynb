{
 "cells": [
  {
   "cell_type": "code",
   "execution_count": 4,
   "metadata": {},
   "outputs": [],
   "source": [
    "import numpy as np\n",
    "import pandas as pd\n",
    "from itertools import zip_longest"
   ]
  },
  {
   "cell_type": "code",
   "execution_count": 3,
   "metadata": {},
   "outputs": [],
   "source": [
    "HP_raw = pd.read_csv(\"../data/train.csv\", header=0, delimiter=',')"
   ]
  },
  {
   "cell_type": "code",
   "execution_count": 8,
   "metadata": {},
   "outputs": [],
   "source": [
    "def remove_duplicates(df):\n",
    "    ''' Returns pandas.DataFrame without duplicate elements.'''\n",
    "    df = df.copy()\n",
    "    to_drop = []\n",
    "    sales = 0.\n",
    "    inventory = 0.\n",
    "\n",
    "    for idx, (id, next_id)  in enumerate(zip_longest(df.id, df.id[1:])):\n",
    "        item = df.iloc[idx]\n",
    "\n",
    "        if id == next_id:\n",
    "            sales += item['sales_units']\n",
    "            inventory += item['inventory_units']\n",
    "            to_drop.append(idx)\n",
    "        \n",
    "        else:\n",
    "            df.loc[idx, 'sales_units'] += sales\n",
    "            df.loc[idx, 'inventory_units'] += inventory\n",
    "            sales = 0.\n",
    "            inventory = 0.\n",
    "\n",
    "    df = df.drop(to_drop)\n",
    "    df = df.reset_index(drop=True)\n",
    "    return df\n",
    "\n",
    "def remove_nan(df):\n",
    "    ''' Returns pandas.DataFrame without nan elements.'''\n",
    "    inv = 'inventory_units'\n",
    "    for idx in range(1, len(df)):\n",
    "        item = df.iloc[idx]\n",
    "\n",
    "        if np.isnan(item['sales_units']):\n",
    "            df.loc[idx, 'sales_units'] = max(0., df.loc[idx-1, inv] - item[inv])\n",
    "\n",
    "        if np.isnan(item['inventory_units']):\n",
    "            df.loc[idx, 'inventory_units'] = max(0., df.loc[idx-1, inv]-item['sales_units'])\n",
    "\n",
    "    return df"
   ]
  },
  {
   "cell_type": "code",
   "execution_count": 9,
   "metadata": {},
   "outputs": [],
   "source": [
    "def create_characteristics_and_inventory_matrix(df):\n",
    "    ''' Returns a DataFrame of the characteristics of each product, a Matrix of the different inventories for each product,\n",
    "        and a dictionary relating each product with its index in both the DataFrame and the Matrix.'''\n",
    "    inv_matrix = []\n",
    "    product_dict = {}\n",
    "    prev = 0\n",
    "    i = 0\n",
    "    chars = pd.DataFrame(columns=list(df.columns[2:-2])+['avg_sales', 'avg_inventory'])\n",
    "\n",
    "    for idx, (num1, num2) in enumerate(zip_longest(df.product_number, df.product_number[1:])):\n",
    "        if num1 != num2:\n",
    "\n",
    "            sales = np.array(df.sales_units[prev:idx+1])\n",
    "            inventory = np.array(df.inventory_units[prev:idx+1])\n",
    "            inv_matrix.append(inventory)\n",
    "\n",
    "            item = df.iloc[idx]\n",
    "            chars.loc[i] = [item[c] for c in chars.columns[:-2]] + [np.average(sales), np.average(inventory)]\n",
    "            \n",
    "            product_dict[str(num1)] = i\n",
    "            i += 1\n",
    "            prev = idx+1\n",
    "\n",
    "    return chars, inv_matrix, product_dict"
   ]
  },
  {
   "cell_type": "code",
   "execution_count": 10,
   "metadata": {},
   "outputs": [],
   "source": [
    "df = remove_duplicates(HP_raw)\n",
    "df = remove_nan(df)\n",
    "[chars, inv_matrix, product_dict] = create_characteristics_and_inventory_matrix(df)"
   ]
  },
  {
   "cell_type": "code",
   "execution_count": 23,
   "metadata": {},
   "outputs": [],
   "source": [
    "#create groups\n",
    "group1 = []\n",
    "group2 = []\n",
    "group3 = []\n",
    "\n",
    "for item in df.iterrows():\n",
    "    if item[1][8] == \"Premium\":\n",
    "        group1.append(product_dict[item[1][0][7:]])\n",
    "    elif item[1][8] == \"Core\":\n",
    "        group2.append(product_dict[item[1][0][7:]])\n",
    "    else:\n",
    "        group3.append(product_dict[item[1][0][7:]])"
   ]
  },
  {
   "attachments": {},
   "cell_type": "markdown",
   "metadata": {},
   "source": [
    "IPA: THE SEQUEL"
   ]
  },
  {
   "cell_type": "code",
   "execution_count": 57,
   "metadata": {},
   "outputs": [],
   "source": [
    "def LMSalgorithm_groups(x, K, L):\n",
    "  L = int(L)\n",
    "  total_error = 0\n",
    "  iterations = 0\n",
    "  N = len(x)\n",
    "  min_l = len(x[0])\n",
    "  for k in range (len(x)):\n",
    "    if len(x[k]) < min_l:\n",
    "      min_l = len(x[k])\n",
    "  Nr = 0\n",
    "  for k in range (len(x)):\n",
    "    aux = x[k]@x[k]\n",
    "    if (aux > Nr):\n",
    "      Nr = aux\n",
    "  if Nr == 0:\n",
    "    Nr = Nr +0.0000000001\n",
    "  mu = 2/Nr*K\n",
    "  i = 0\n",
    "  h = np.zeros(L)\n",
    "  while (i+L < min_l):\n",
    "    for k in range(len(x)):\n",
    "      d = x[k][-min_l+i+L]\n",
    "      x_n = x[k][-min_l+i:-min_l+i+L]\n",
    "      y = x_n@h\n",
    "      e = d-y\n",
    "      total_error = total_error + e*e*1/(len(x)-i-L)**2\n",
    "      iterations = iterations+1\n",
    "      h = h+mu*x_n*e\n",
    "    i = i+1\n",
    "  pred = []\n",
    "  for k in range (len(x)):\n",
    "    x_n = x[k][-L:]\n",
    "    pred.append(x_n@h)\n",
    "  return np.sqrt(total_error/iterations), pred"
   ]
  },
  {
   "cell_type": "code",
   "execution_count": 53,
   "metadata": {},
   "outputs": [],
   "source": [
    "def LMSalgorithm_adaptativeMU_groups(x, K, L):\n",
    "  L = int(L)\n",
    "  N = len(x)\n",
    "  min_l = len(x[0])\n",
    "  for k in range (len(x)):\n",
    "    if len(x[k]) < min_l:\n",
    "      min_l = len(x[k])\n",
    "  total_error = 0\n",
    "  iterations = 0\n",
    "  i = 0\n",
    "  h = np.zeros(L)\n",
    "  while (i+L < min_l):\n",
    "    for k in range(len(x)):\n",
    "      d = x[k][-min_l+i+L]\n",
    "      x_n = x[k][-min_l+i:-min_l+i+L]\n",
    "      y = x_n@h\n",
    "      e = d-y\n",
    "      total_error = total_error + e*e*1/(min_l-i-L)**2\n",
    "      iterations = iterations+1\n",
    "      Nr = x_n@x_n\n",
    "      if Nr == 0:\n",
    "        Nr = Nr+0.0000000001\n",
    "      mu = 2/Nr*K\n",
    "      h = h+mu*x_n*e\n",
    "    i = i+1\n",
    "  pred = []\n",
    "  for k in range (len(x)):\n",
    "    x_n = x[k][-L:]\n",
    "    pred.append(x_n@h)\n",
    "  return np.sqrt(total_error/iterations), pred"
   ]
  },
  {
   "cell_type": "code",
   "execution_count": 32,
   "metadata": {},
   "outputs": [],
   "source": [
    "possible_K = np.array([1/2, 1/3, 1/5, 1/10, 1/50, 1/100])\n",
    "possible_L = np.array([1, 2, 3, 4, 5, 6, 7, 8, 9, 10])\n",
    "\n",
    "def IPA_prediction(x):\n",
    "  min_error = 100000000\n",
    "  for k in range(len(possible_K)):\n",
    "    for l in range(len(possible_L)):\n",
    "      [rmse, pred] = LMSalgorithm_groups(x, possible_K[k], possible_L[l]) \n",
    "      if rmse < min_error:\n",
    "        min_error = rmse\n",
    "        best_L = possible_L[l]\n",
    "        best_K = possible_K[k]\n",
    "        best_algorithm = LMSalgorithm_groups\n",
    "      [rmse, pred] = LMSalgorithm_adaptativeMU_groups(x, possible_K[k], possible_L[l])\n",
    "      if rmse < min_error:\n",
    "        min_error = rmse\n",
    "        best_L = possible_L[l]\n",
    "        best_K = possible_K[k]\n",
    "        best_algorithm = LMSalgorithm_adaptativeMU_groups\n",
    "  return best_L, best_K, best_algorithm"
   ]
  },
  {
   "cell_type": "code",
   "execution_count": 60,
   "metadata": {},
   "outputs": [],
   "source": [
    "total = 0\n",
    "num_groups = 3\n",
    "groups = [group1, group2, group3]\n",
    "for i in range(num_groups):\n",
    "    x = []\n",
    "    d = []\n",
    "    for j in groups[i]:\n",
    "        x.append(inv_matrix[j][:-13])\n",
    "        d.append(inv_matrix[j][-13:])\n",
    "    for j in range(13):\n",
    "        best = IPA_prediction(x)\n",
    "        [rmse , pred]=best[2](x, best[1], best[0])\n",
    "        for k in range (len(groups[i])):\n",
    "            total = total - abs(pred[k]-d[k][j])**2\n",
    "            np.append(x[k], pred[k])\n"
   ]
  },
  {
   "cell_type": "code",
   "execution_count": 63,
   "metadata": {},
   "outputs": [
    {
     "name": "stdout",
     "output_type": "stream",
     "text": [
      "844.43349448009\n"
     ]
    }
   ],
   "source": [
    "print(np.sqrt(-total/(1300)))"
   ]
  }
 ],
 "metadata": {
  "kernelspec": {
   "display_name": "Python 3",
   "language": "python",
   "name": "python3"
  },
  "language_info": {
   "codemirror_mode": {
    "name": "ipython",
    "version": 3
   },
   "file_extension": ".py",
   "mimetype": "text/x-python",
   "name": "python",
   "nbconvert_exporter": "python",
   "pygments_lexer": "ipython3",
   "version": "3.8.5"
  },
  "orig_nbformat": 4
 },
 "nbformat": 4,
 "nbformat_minor": 2
}
